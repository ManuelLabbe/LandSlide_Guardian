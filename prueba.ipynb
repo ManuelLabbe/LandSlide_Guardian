{
 "cells": [
  {
   "cell_type": "code",
   "execution_count": 2,
   "metadata": {},
   "outputs": [],
   "source": [
    "import rasterio"
   ]
  },
  {
   "cell_type": "code",
   "execution_count": 3,
   "metadata": {},
   "outputs": [
    {
     "name": "stdout",
     "output_type": "stream",
     "text": [
      "Dimension 3130x3219\n"
     ]
    }
   ],
   "source": [
    "path = 'output/output_alpha.tif'\n",
    "with rasterio.open(path) as src:\n",
    "    meta = src.meta\n",
    "    width = src.width\n",
    "    height = src.height\n",
    "    print(f'Dimension {height}x{width}')"
   ]
  },
  {
   "cell_type": "code",
   "execution_count": 4,
   "metadata": {},
   "outputs": [],
   "source": [
    "import rasterio\n",
    "from rasterio.mask import mask\n",
    "from rasterio.warp import calculate_default_transform, reproject, Resampling\n",
    "import numpy as np\n",
    "\n",
    "def intersect_tiffs(tiff1_path, tiff2_path, output_path):\n",
    "    \"\"\"\n",
    "    Encuentra la intersección entre dos archivos TIFF y crea uno nuevo con los datos del segundo TIFF\n",
    "    recortados al área de intersección del primero.\n",
    "    \n",
    "    Args:\n",
    "        tiff1_path (str): Ruta al primer archivo TIFF (se usará su extensión)\n",
    "        tiff2_path (str): Ruta al segundo archivo TIFF (se usarán sus datos)\n",
    "        output_path (str): Ruta donde se guardará el nuevo TIFF\n",
    "    \"\"\"\n",
    "    \n",
    "    # Abrir ambos archivos TIFF\n",
    "    with rasterio.open(tiff1_path) as src1:\n",
    "        with rasterio.open(tiff2_path) as src2:\n",
    "            # Obtener los bounds (límites) del primer TIFF\n",
    "            bounds = src1.bounds\n",
    "            \n",
    "            # Verificar si los sistemas de coordenadas son diferentes\n",
    "            if src1.crs != src2.crs:\n",
    "                print('CRS diferentes')\n",
    "                # Calcular la transformación necesaria\n",
    "                transform, width, height = calculate_default_transform(\n",
    "                    src2.crs, src1.crs, src2.width, src2.height, *src2.bounds)\n",
    "                \n",
    "                # Crear un array temporal para reproyectar\n",
    "                temp_data = np.zeros((height, width), dtype=src2.dtypes[0])\n",
    "                \n",
    "                # Reproyectar los datos del segundo TIFF al CR.S del primero\n",
    "                reproject(\n",
    "                    source=rasterio.band(src2, 1),\n",
    "                    destination=temp_data,\n",
    "                    src_transform=src2.transform,\n",
    "                    src_crs=src2.crs,\n",
    "                    dst_transform=transform,\n",
    "                    dst_crs=src1.crs,\n",
    "                    resampling=Resampling.nearest\n",
    "                )\n",
    "                \n",
    "                # Actualizar los metadatos para el archivo reproyectado\n",
    "                profile = src2.profile.copy()\n",
    "                profile.update({\n",
    "                    'crs': src1.crs,\n",
    "                    'transform': transform,\n",
    "                    'width': width,\n",
    "                    'height': height\n",
    "                })\n",
    "                \n",
    "                # Crear un dataset temporal con los datos reproyectados\n",
    "                with rasterio.MemoryFile() as memfile:\n",
    "                    with memfile.open(**profile) as temp_dataset:\n",
    "                        temp_dataset.write(temp_data, 1)\n",
    "                        # Realizar el recorte usando los bounds del primer TIFF\n",
    "                        out_image, out_transform = mask(temp_dataset, \n",
    "                                                      [{'type': 'Polygon', \n",
    "                                                        'coordinates': [[\n",
    "                                                            [bounds.left, bounds.bottom],\n",
    "                                                            [bounds.left, bounds.top],\n",
    "                                                            [bounds.right, bounds.top],\n",
    "                                                            [bounds.right, bounds.bottom],\n",
    "                                                            [bounds.left, bounds.bottom]\n",
    "                                                        ]]}],\n",
    "                                                      crop=True)\n",
    "            else:\n",
    "                # Si tienen el mismo CRS, hacer el recorte directamente\n",
    "                print('CRS iguales')\n",
    "                out_image, out_transform = mask(src2, \n",
    "                                              [{'type': 'Polygon', \n",
    "                                                'coordinates': [[\n",
    "                                                    [bounds.left, bounds.bottom],\n",
    "                                                    [bounds.left, bounds.top],\n",
    "                                                    [bounds.right, bounds.top],\n",
    "                                                    [bounds.right, bounds.bottom],\n",
    "                                                    [bounds.left, bounds.bottom]\n",
    "                                                ]]}],\n",
    "                                              crop=True)\n",
    "            \n",
    "            # Preparar el perfil para el archivo de salida\n",
    "            out_profile = src2.profile.copy()\n",
    "            out_profile.update({\n",
    "                'height': out_image.shape[1],\n",
    "                'width': out_image.shape[2],\n",
    "                'transform': out_transform\n",
    "            })\n",
    "            \n",
    "            # Guardar el resultado\n",
    "            with rasterio.open(output_path, 'w', **out_profile) as dest:\n",
    "                dest.write(out_image)"
   ]
  },
  {
   "cell_type": "code",
   "execution_count": 7,
   "metadata": {},
   "outputs": [
    {
     "name": "stdout",
     "output_type": "stream",
     "text": [
      "CRS iguales\n"
     ]
    }
   ],
   "source": [
    "path_slope = 'output/output_alpha.tif'\n",
    "path_rosetta = 'Slope_SRTM_Zone_WGS84.tif'\n",
    "path_name_output = 'output/prueba.tif'\n",
    "intersect_tiffs(path_slope, path_rosetta, path_name_output)"
   ]
  },
  {
   "cell_type": "code",
   "execution_count": null,
   "metadata": {},
   "outputs": [],
   "source": []
  }
 ],
 "metadata": {
  "kernelspec": {
   "display_name": "rasterio",
   "language": "python",
   "name": "python3"
  },
  "language_info": {
   "codemirror_mode": {
    "name": "ipython",
    "version": 3
   },
   "file_extension": ".py",
   "mimetype": "text/x-python",
   "name": "python",
   "nbconvert_exporter": "python",
   "pygments_lexer": "ipython3",
   "version": "3.10.14"
  }
 },
 "nbformat": 4,
 "nbformat_minor": 2
}
